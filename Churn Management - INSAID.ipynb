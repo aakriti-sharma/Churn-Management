{
 "cells": [
  {
   "cell_type": "markdown",
   "id": "ad5c172d",
   "metadata": {},
   "source": [
    "Inroduction\n",
    "Customer churn is the discontinuity of business by valuable customers or subscribers with a firm or service.\n",
    "\n",
    "Customers in the telecom industry can choose from a variety of service providers and actively switch from one to the next. The telecommunications business has an annual churn rate of 15-25 percent in this highly competitive market.\n",
    "\n",
    "Objectives:\n",
    "To develop a holistic method to predict churn.\n",
    "To identify patterns in customer churn.\n",
    "To use the derived analysis for better customer retention in the future."
   ]
  },
  {
   "cell_type": "code",
   "execution_count": 1,
   "id": "f0d00f42",
   "metadata": {},
   "outputs": [
    {
     "data": {
      "text/html": [
       "<div>\n",
       "<style scoped>\n",
       "    .dataframe tbody tr th:only-of-type {\n",
       "        vertical-align: middle;\n",
       "    }\n",
       "\n",
       "    .dataframe tbody tr th {\n",
       "        vertical-align: top;\n",
       "    }\n",
       "\n",
       "    .dataframe thead th {\n",
       "        text-align: right;\n",
       "    }\n",
       "</style>\n",
       "<table border=\"1\" class=\"dataframe\">\n",
       "  <thead>\n",
       "    <tr style=\"text-align: right;\">\n",
       "      <th></th>\n",
       "      <th>customerID</th>\n",
       "      <th>gender</th>\n",
       "      <th>SeniorCitizen</th>\n",
       "      <th>Partner</th>\n",
       "      <th>Dependents</th>\n",
       "      <th>tenure</th>\n",
       "      <th>PhoneService</th>\n",
       "      <th>MultipleLines</th>\n",
       "      <th>InternetService</th>\n",
       "      <th>OnlineSecurity</th>\n",
       "      <th>...</th>\n",
       "      <th>DeviceProtection</th>\n",
       "      <th>TechSupport</th>\n",
       "      <th>StreamingTV</th>\n",
       "      <th>StreamingMovies</th>\n",
       "      <th>Contract</th>\n",
       "      <th>PaperlessBilling</th>\n",
       "      <th>PaymentMethod</th>\n",
       "      <th>MonthlyCharges</th>\n",
       "      <th>TotalCharges</th>\n",
       "      <th>Churn</th>\n",
       "    </tr>\n",
       "  </thead>\n",
       "  <tbody>\n",
       "    <tr>\n",
       "      <th>0</th>\n",
       "      <td>7590-VHVEG</td>\n",
       "      <td>Female</td>\n",
       "      <td>0</td>\n",
       "      <td>Yes</td>\n",
       "      <td>No</td>\n",
       "      <td>1</td>\n",
       "      <td>No</td>\n",
       "      <td>No phone service</td>\n",
       "      <td>DSL</td>\n",
       "      <td>No</td>\n",
       "      <td>...</td>\n",
       "      <td>No</td>\n",
       "      <td>No</td>\n",
       "      <td>No</td>\n",
       "      <td>No</td>\n",
       "      <td>Month-to-month</td>\n",
       "      <td>Yes</td>\n",
       "      <td>Electronic check</td>\n",
       "      <td>29.85</td>\n",
       "      <td>29.85</td>\n",
       "      <td>No</td>\n",
       "    </tr>\n",
       "    <tr>\n",
       "      <th>1</th>\n",
       "      <td>5575-GNVDE</td>\n",
       "      <td>Male</td>\n",
       "      <td>0</td>\n",
       "      <td>No</td>\n",
       "      <td>No</td>\n",
       "      <td>34</td>\n",
       "      <td>Yes</td>\n",
       "      <td>No</td>\n",
       "      <td>DSL</td>\n",
       "      <td>Yes</td>\n",
       "      <td>...</td>\n",
       "      <td>Yes</td>\n",
       "      <td>No</td>\n",
       "      <td>No</td>\n",
       "      <td>No</td>\n",
       "      <td>One year</td>\n",
       "      <td>No</td>\n",
       "      <td>Mailed check</td>\n",
       "      <td>56.95</td>\n",
       "      <td>1889.50</td>\n",
       "      <td>No</td>\n",
       "    </tr>\n",
       "    <tr>\n",
       "      <th>2</th>\n",
       "      <td>3668-QPYBK</td>\n",
       "      <td>Male</td>\n",
       "      <td>0</td>\n",
       "      <td>No</td>\n",
       "      <td>No</td>\n",
       "      <td>2</td>\n",
       "      <td>Yes</td>\n",
       "      <td>No</td>\n",
       "      <td>DSL</td>\n",
       "      <td>Yes</td>\n",
       "      <td>...</td>\n",
       "      <td>No</td>\n",
       "      <td>No</td>\n",
       "      <td>No</td>\n",
       "      <td>No</td>\n",
       "      <td>Month-to-month</td>\n",
       "      <td>Yes</td>\n",
       "      <td>Mailed check</td>\n",
       "      <td>53.85</td>\n",
       "      <td>108.15</td>\n",
       "      <td>Yes</td>\n",
       "    </tr>\n",
       "    <tr>\n",
       "      <th>3</th>\n",
       "      <td>7795-CFOCW</td>\n",
       "      <td>Male</td>\n",
       "      <td>0</td>\n",
       "      <td>No</td>\n",
       "      <td>No</td>\n",
       "      <td>45</td>\n",
       "      <td>No</td>\n",
       "      <td>No phone service</td>\n",
       "      <td>DSL</td>\n",
       "      <td>Yes</td>\n",
       "      <td>...</td>\n",
       "      <td>Yes</td>\n",
       "      <td>Yes</td>\n",
       "      <td>No</td>\n",
       "      <td>No</td>\n",
       "      <td>One year</td>\n",
       "      <td>No</td>\n",
       "      <td>Bank transfer (automatic)</td>\n",
       "      <td>42.30</td>\n",
       "      <td>1840.75</td>\n",
       "      <td>No</td>\n",
       "    </tr>\n",
       "    <tr>\n",
       "      <th>4</th>\n",
       "      <td>9237-HQITU</td>\n",
       "      <td>Female</td>\n",
       "      <td>0</td>\n",
       "      <td>No</td>\n",
       "      <td>No</td>\n",
       "      <td>2</td>\n",
       "      <td>Yes</td>\n",
       "      <td>No</td>\n",
       "      <td>Fiber optic</td>\n",
       "      <td>No</td>\n",
       "      <td>...</td>\n",
       "      <td>No</td>\n",
       "      <td>No</td>\n",
       "      <td>No</td>\n",
       "      <td>No</td>\n",
       "      <td>Month-to-month</td>\n",
       "      <td>Yes</td>\n",
       "      <td>Electronic check</td>\n",
       "      <td>70.70</td>\n",
       "      <td>151.65</td>\n",
       "      <td>Yes</td>\n",
       "    </tr>\n",
       "  </tbody>\n",
       "</table>\n",
       "<p>5 rows × 21 columns</p>\n",
       "</div>"
      ],
      "text/plain": [
       "   customerID  gender  SeniorCitizen Partner Dependents  tenure PhoneService  \\\n",
       "0  7590-VHVEG  Female              0     Yes         No       1           No   \n",
       "1  5575-GNVDE    Male              0      No         No      34          Yes   \n",
       "2  3668-QPYBK    Male              0      No         No       2          Yes   \n",
       "3  7795-CFOCW    Male              0      No         No      45           No   \n",
       "4  9237-HQITU  Female              0      No         No       2          Yes   \n",
       "\n",
       "      MultipleLines InternetService OnlineSecurity  ... DeviceProtection  \\\n",
       "0  No phone service             DSL             No  ...               No   \n",
       "1                No             DSL            Yes  ...              Yes   \n",
       "2                No             DSL            Yes  ...               No   \n",
       "3  No phone service             DSL            Yes  ...              Yes   \n",
       "4                No     Fiber optic             No  ...               No   \n",
       "\n",
       "  TechSupport StreamingTV StreamingMovies        Contract PaperlessBilling  \\\n",
       "0          No          No              No  Month-to-month              Yes   \n",
       "1          No          No              No        One year               No   \n",
       "2          No          No              No  Month-to-month              Yes   \n",
       "3         Yes          No              No        One year               No   \n",
       "4          No          No              No  Month-to-month              Yes   \n",
       "\n",
       "               PaymentMethod MonthlyCharges  TotalCharges  Churn  \n",
       "0           Electronic check          29.85         29.85     No  \n",
       "1               Mailed check          56.95       1889.50     No  \n",
       "2               Mailed check          53.85        108.15    Yes  \n",
       "3  Bank transfer (automatic)          42.30       1840.75     No  \n",
       "4           Electronic check          70.70        151.65    Yes  \n",
       "\n",
       "[5 rows x 21 columns]"
      ]
     },
     "execution_count": 1,
     "metadata": {},
     "output_type": "execute_result"
    }
   ],
   "source": [
    "import pandas as pd\n",
    "import numpy as np\n",
    "import seaborn as sns\n",
    "import matplotlib as mp\n",
    "import warnings\n",
    "warnings.filterwarnings(\"ignore\")\n",
    "\n",
    "data = pd. read_excel(r'C:\\Users\\HP\\Downloads\\Churn.xlsx', sheet_name='Churn - shivan kumar')\n",
    "org_data = data.copy()\n",
    "data.head()"
   ]
  },
  {
   "cell_type": "code",
   "execution_count": 2,
   "id": "c3168b31",
   "metadata": {},
   "outputs": [
    {
     "name": "stdout",
     "output_type": "stream",
     "text": [
      "['TotalCharges']\n"
     ]
    }
   ],
   "source": [
    "missing_cols=[col for col in data.columns\n",
    "             if data[col].isnull().any()] #checking for missing values\n",
    "print(missing_cols)"
   ]
  },
  {
   "cell_type": "code",
   "execution_count": 3,
   "id": "3f4d4f03",
   "metadata": {},
   "outputs": [
    {
     "name": "stdout",
     "output_type": "stream",
     "text": [
      " \n",
      "Counting total missing values in TotalCharges :  11\n"
     ]
    }
   ],
   "source": [
    "print(\" \\nCounting total missing values in TotalCharges : \",\n",
    "      data['TotalCharges'].isnull().sum())"
   ]
  },
  {
   "cell_type": "markdown",
   "id": "17b265d9",
   "metadata": {},
   "source": [
    "It is observed that only one column 'TotalCharges' contains missing values and that too in a very small fraction, 0.00156% to be precise. Rather than deploying a method to specifically handle missing values it is preferred to use an algorithm that has in built missing value handling functionality."
   ]
  },
  {
   "cell_type": "code",
   "execution_count": 4,
   "id": "d5bdd5ca",
   "metadata": {},
   "outputs": [
    {
     "data": {
      "text/plain": [
       "<AxesSubplot:title={'center':'Heatmap correlation'}>"
      ]
     },
     "execution_count": 4,
     "metadata": {},
     "output_type": "execute_result"
    },
    {
     "data": {
      "image/png": "[encoded data removed]",
      "text/plain": [
       "<Figure size 432x288 with 2 Axes>"
      ]
     },
     "metadata": {
      "needs_background": "light"
     },
     "output_type": "display_data"
    }
   ],
   "source": [
    "import matplotlib.pyplot as mpp  \n",
    " \n",
    "\n",
    "mpp.title('Heatmap correlation')\n",
    "sns.heatmap(data.corr().abs(),annot=True) # Displaying the Heatmap"
   ]
  },
  {
   "cell_type": "markdown",
   "id": "27e70ec0",
   "metadata": {},
   "source": [
    "It can be deduced that tenure and charges have shown collinearity, which is a result of them being proportionate in nature. As the time spent with the company increases, the total amount paid does too. It is a logical relation and high intercorrelations are not present for independent variables so won't require treatment. "
   ]
  },
  {
   "cell_type": "code",
   "execution_count": 5,
   "id": "bd038463",
   "metadata": {
    "scrolled": true
   },
   "outputs": [
    {
     "name": "stdout",
     "output_type": "stream",
     "text": [
      "SeniorCitizen        0.0000\n",
      "tenure              46.0000\n",
      "MonthlyCharges      54.3500\n",
      "TotalCharges      3393.2875\n",
      "dtype: float64\n"
     ]
    }
   ],
   "source": [
    "Q1 = data.quantile(0.25)\n",
    "Q3 = data.quantile(0.75)\n",
    "IQR = Q3 - Q1  #Identifying Outliers with Interquartile Range (IQR)\n",
    "print(IQR)"
   ]
  },
  {
   "cell_type": "code",
   "execution_count": 6,
   "id": "b029e91e",
   "metadata": {},
   "outputs": [
    {
     "data": {
      "image/png": "[encoded data removed]",
      "text/plain": [
       "<Figure size 864x432 with 1 Axes>"
      ]
     },
     "metadata": {
      "needs_background": "light"
     },
     "output_type": "display_data"
    }
   ],
   "source": [
    "fig, ax = mpp.subplots(figsize=(12,6))\n",
    "ax.scatter(data['MonthlyCharges'], data['tenure'])\n",
    "ax.set_xlabel('Monthly Charges')\n",
    "ax.set_ylabel('Tenure')\n",
    "mpp.show()"
   ]
  },
  {
   "cell_type": "code",
   "execution_count": 7,
   "id": "ed0a2cb5",
   "metadata": {},
   "outputs": [
    {
     "data": {
      "image/png": "[encoded data removed]",
      "text/plain": [
       "<Figure size 864x432 with 1 Axes>"
      ]
     },
     "metadata": {
      "needs_background": "light"
     },
     "output_type": "display_data"
    }
   ],
   "source": [
    "fig, ax = mpp.subplots(figsize=(12,6))\n",
    "ax.scatter(data['TotalCharges'], data['tenure'])\n",
    "ax.set_xlabel('Total Charges')\n",
    "ax.set_ylabel('Tenure')\n",
    "mpp.show()"
   ]
  },
  {
   "cell_type": "markdown",
   "id": "dcfb5f04",
   "metadata": {},
   "source": [
    "There is no valid range for TotalCharges and MonthlyCharges, they can fall in a wide range of values, upon the visualisation of scatterplot it can be seen that with respect to tenure both the features can be seen having minute to no deviations from dataset range."
   ]
  },
  {
   "cell_type": "markdown",
   "id": "4a6aac84",
   "metadata": {},
   "source": [
    "As almost all the columns include categorical variables, it is necessary to convert them into equivalent numerical values as a part of preprocessing data "
   ]
  },
  {
   "cell_type": "code",
   "execution_count": 8,
   "id": "57edc03d",
   "metadata": {},
   "outputs": [
    {
     "name": "stdout",
     "output_type": "stream",
     "text": [
      "['customerID', 'gender', 'Partner', 'Dependents', 'PhoneService', 'MultipleLines', 'InternetService', 'OnlineSecurity', 'OnlineBackup', 'DeviceProtection', 'TechSupport', 'StreamingTV', 'StreamingMovies', 'Contract', 'PaperlessBilling', 'PaymentMethod', 'Churn']\n"
     ]
    }
   ],
   "source": [
    "s= (data.dtypes=='object')\n",
    "cat_cols=list(s[s].index)  #storing categorical variables\n",
    "print(cat_cols)"
   ]
  },
  {
   "cell_type": "markdown",
   "id": "3f8d5592",
   "metadata": {},
   "source": [
    "As it can be seen that 90% of the behavioral variables are categorical in nature, it won't be fruitful to drop the columns as significant data will be lost. One hot encoding would seen futile too as a lot of columns would generate from a single column and increase the dataframe size unnecessarily. The best option in this case in to use Label encoding which assigns integer values to each category."
   ]
  },
  {
   "cell_type": "code",
   "execution_count": 9,
   "id": "b301abf5",
   "metadata": {},
   "outputs": [],
   "source": [
    "from sklearn.preprocessing import LabelEncoder\n",
    "for col in cat_cols:\n",
    "    Mylabel = LabelEncoder()\n",
    "    Mylabel.fit(list(data[col].values))\n",
    "    data[col] = Mylabel.transform(data[col].values)"
   ]
  },
  {
   "cell_type": "code",
   "execution_count": 10,
   "id": "6b887629",
   "metadata": {},
   "outputs": [
    {
     "data": {
      "text/html": [
       "<div>\n",
       "<style scoped>\n",
       "    .dataframe tbody tr th:only-of-type {\n",
       "        vertical-align: middle;\n",
       "    }\n",
       "\n",
       "    .dataframe tbody tr th {\n",
       "        vertical-align: top;\n",
       "    }\n",
       "\n",
       "    .dataframe thead th {\n",
       "        text-align: right;\n",
       "    }\n",
       "</style>\n",
       "<table border=\"1\" class=\"dataframe\">\n",
       "  <thead>\n",
       "    <tr style=\"text-align: right;\">\n",
       "      <th></th>\n",
       "      <th>customerID</th>\n",
       "      <th>gender</th>\n",
       "      <th>SeniorCitizen</th>\n",
       "      <th>Partner</th>\n",
       "      <th>Dependents</th>\n",
       "      <th>tenure</th>\n",
       "      <th>PhoneService</th>\n",
       "      <th>MultipleLines</th>\n",
       "      <th>InternetService</th>\n",
       "      <th>OnlineSecurity</th>\n",
       "      <th>...</th>\n",
       "      <th>DeviceProtection</th>\n",
       "      <th>TechSupport</th>\n",
       "      <th>StreamingTV</th>\n",
       "      <th>StreamingMovies</th>\n",
       "      <th>Contract</th>\n",
       "      <th>PaperlessBilling</th>\n",
       "      <th>PaymentMethod</th>\n",
       "      <th>MonthlyCharges</th>\n",
       "      <th>TotalCharges</th>\n",
       "      <th>Churn</th>\n",
       "    </tr>\n",
       "  </thead>\n",
       "  <tbody>\n",
       "    <tr>\n",
       "      <th>0</th>\n",
       "      <td>5375</td>\n",
       "      <td>0</td>\n",
       "      <td>0</td>\n",
       "      <td>1</td>\n",
       "      <td>0</td>\n",
       "      <td>1</td>\n",
       "      <td>0</td>\n",
       "      <td>1</td>\n",
       "      <td>0</td>\n",
       "      <td>0</td>\n",
       "      <td>...</td>\n",
       "      <td>0</td>\n",
       "      <td>0</td>\n",
       "      <td>0</td>\n",
       "      <td>0</td>\n",
       "      <td>0</td>\n",
       "      <td>1</td>\n",
       "      <td>2</td>\n",
       "      <td>29.85</td>\n",
       "      <td>29.85</td>\n",
       "      <td>0</td>\n",
       "    </tr>\n",
       "    <tr>\n",
       "      <th>1</th>\n",
       "      <td>3962</td>\n",
       "      <td>1</td>\n",
       "      <td>0</td>\n",
       "      <td>0</td>\n",
       "      <td>0</td>\n",
       "      <td>34</td>\n",
       "      <td>1</td>\n",
       "      <td>0</td>\n",
       "      <td>0</td>\n",
       "      <td>2</td>\n",
       "      <td>...</td>\n",
       "      <td>2</td>\n",
       "      <td>0</td>\n",
       "      <td>0</td>\n",
       "      <td>0</td>\n",
       "      <td>1</td>\n",
       "      <td>0</td>\n",
       "      <td>3</td>\n",
       "      <td>56.95</td>\n",
       "      <td>1889.50</td>\n",
       "      <td>0</td>\n",
       "    </tr>\n",
       "    <tr>\n",
       "      <th>2</th>\n",
       "      <td>2564</td>\n",
       "      <td>1</td>\n",
       "      <td>0</td>\n",
       "      <td>0</td>\n",
       "      <td>0</td>\n",
       "      <td>2</td>\n",
       "      <td>1</td>\n",
       "      <td>0</td>\n",
       "      <td>0</td>\n",
       "      <td>2</td>\n",
       "      <td>...</td>\n",
       "      <td>0</td>\n",
       "      <td>0</td>\n",
       "      <td>0</td>\n",
       "      <td>0</td>\n",
       "      <td>0</td>\n",
       "      <td>1</td>\n",
       "      <td>3</td>\n",
       "      <td>53.85</td>\n",
       "      <td>108.15</td>\n",
       "      <td>1</td>\n",
       "    </tr>\n",
       "    <tr>\n",
       "      <th>3</th>\n",
       "      <td>5535</td>\n",
       "      <td>1</td>\n",
       "      <td>0</td>\n",
       "      <td>0</td>\n",
       "      <td>0</td>\n",
       "      <td>45</td>\n",
       "      <td>0</td>\n",
       "      <td>1</td>\n",
       "      <td>0</td>\n",
       "      <td>2</td>\n",
       "      <td>...</td>\n",
       "      <td>2</td>\n",
       "      <td>2</td>\n",
       "      <td>0</td>\n",
       "      <td>0</td>\n",
       "      <td>1</td>\n",
       "      <td>0</td>\n",
       "      <td>0</td>\n",
       "      <td>42.30</td>\n",
       "      <td>1840.75</td>\n",
       "      <td>0</td>\n",
       "    </tr>\n",
       "    <tr>\n",
       "      <th>4</th>\n",
       "      <td>6511</td>\n",
       "      <td>0</td>\n",
       "      <td>0</td>\n",
       "      <td>0</td>\n",
       "      <td>0</td>\n",
       "      <td>2</td>\n",
       "      <td>1</td>\n",
       "      <td>0</td>\n",
       "      <td>1</td>\n",
       "      <td>0</td>\n",
       "      <td>...</td>\n",
       "      <td>0</td>\n",
       "      <td>0</td>\n",
       "      <td>0</td>\n",
       "      <td>0</td>\n",
       "      <td>0</td>\n",
       "      <td>1</td>\n",
       "      <td>2</td>\n",
       "      <td>70.70</td>\n",
       "      <td>151.65</td>\n",
       "      <td>1</td>\n",
       "    </tr>\n",
       "  </tbody>\n",
       "</table>\n",
       "<p>5 rows × 21 columns</p>\n",
       "</div>"
      ],
      "text/plain": [
       "   customerID  gender  SeniorCitizen  Partner  Dependents  tenure  \\\n",
       "0        5375       0              0        1           0       1   \n",
       "1        3962       1              0        0           0      34   \n",
       "2        2564       1              0        0           0       2   \n",
       "3        5535       1              0        0           0      45   \n",
       "4        6511       0              0        0           0       2   \n",
       "\n",
       "   PhoneService  MultipleLines  InternetService  OnlineSecurity  ...  \\\n",
       "0             0              1                0               0  ...   \n",
       "1             1              0                0               2  ...   \n",
       "2             1              0                0               2  ...   \n",
       "3             0              1                0               2  ...   \n",
       "4             1              0                1               0  ...   \n",
       "\n",
       "   DeviceProtection  TechSupport  StreamingTV  StreamingMovies  Contract  \\\n",
       "0                 0            0            0                0         0   \n",
       "1                 2            0            0                0         1   \n",
       "2                 0            0            0                0         0   \n",
       "3                 2            2            0                0         1   \n",
       "4                 0            0            0                0         0   \n",
       "\n",
       "   PaperlessBilling  PaymentMethod  MonthlyCharges  TotalCharges  Churn  \n",
       "0                 1              2           29.85         29.85      0  \n",
       "1                 0              3           56.95       1889.50      0  \n",
       "2                 1              3           53.85        108.15      1  \n",
       "3                 0              0           42.30       1840.75      0  \n",
       "4                 1              2           70.70        151.65      1  \n",
       "\n",
       "[5 rows x 21 columns]"
      ]
     },
     "execution_count": 10,
     "metadata": {},
     "output_type": "execute_result"
    }
   ],
   "source": [
    "data.head() #reviewing the data after encoding categorical to numeric"
   ]
  },
  {
   "cell_type": "code",
   "execution_count": 11,
   "id": "d672b1a2",
   "metadata": {},
   "outputs": [],
   "source": [
    "data = data.drop(['customerID'], axis = 1)  #dropping customer id as it is insignificant for prediction"
   ]
  },
  {
   "cell_type": "code",
   "execution_count": 12,
   "id": "eea36baf",
   "metadata": {},
   "outputs": [
    {
     "data": {
      "image/png": "[encoded data removed]",
      "text/plain": [
       "<Figure size 360x288 with 1 Axes>"
      ]
     },
     "metadata": {
      "needs_background": "light"
     },
     "output_type": "display_data"
    }
   ],
   "source": [
    "data['Churn'].hist(figsize=(5,4))\n",
    "mpp.show() "
   ]
  },
  {
   "cell_type": "markdown",
   "id": "e5f550bb",
   "metadata": {},
   "source": [
    "The dataset is highly imbalanced with the target class having a 70-30 distribution. To prevent this imbalance from effecting model insuffieciency, we will perform resampling."
   ]
  },
  {
   "cell_type": "code",
   "execution_count": 13,
   "id": "cf6e4389",
   "metadata": {},
   "outputs": [],
   "source": [
    "no  = data[data['Churn']==0]   \n",
    "yes = data[data['Churn']==1]  \n",
    "from sklearn.utils import resample\n",
    "data_upsampled = resample(yes, replace = True, n_samples = 5000) \n",
    "\n",
    "data = pd.concat([no, data_upsampled])\n",
    "\n",
    "from sklearn.utils import shuffle\n",
    "data = shuffle(data) # shuffling for random order encounter\n"
   ]
  },
  {
   "cell_type": "markdown",
   "id": "90320c1d",
   "metadata": {},
   "source": [
    "With a balanced dataset, it is now important to select the features decisive in determining Churn."
   ]
  },
  {
   "cell_type": "code",
   "execution_count": 14,
   "id": "d05176f4",
   "metadata": {},
   "outputs": [
    {
     "data": {
      "text/plain": [
       "Churn               1.000000\n",
       "Contract            0.482989\n",
       "tenure              0.413883\n",
       "OnlineSecurity      0.345195\n",
       "TechSupport         0.331095\n",
       "TotalCharges        0.240568\n",
       "MonthlyCharges      0.222270\n",
       "PaperlessBilling    0.221252\n",
       "OnlineBackup        0.218172\n",
       "DeviceProtection    0.206812\n",
       "Dependents          0.196725\n",
       "Partner             0.176173\n",
       "SeniorCitizen       0.158440\n",
       "PaymentMethod       0.126525\n",
       "InternetService     0.062858\n",
       "StreamingMovies     0.050430\n",
       "StreamingTV         0.045106\n",
       "MultipleLines       0.036531\n",
       "gender              0.010943\n",
       "PhoneService        0.008733\n",
       "Name: Churn, dtype: float64"
      ]
     },
     "execution_count": 14,
     "metadata": {},
     "output_type": "execute_result"
    }
   ],
   "source": [
    "data.corr().abs()['Churn'].sort_values(ascending = False)"
   ]
  },
  {
   "cell_type": "markdown",
   "id": "abd31e01",
   "metadata": {},
   "source": [
    "We can see that the columns InternetService, MultipleLines, StreamingMovies, StreamingTV, PhoneService, gender have very less role in determining Churn status, hence it'll be beneficial to consider the more related features and not consider these."
   ]
  },
  {
   "cell_type": "code",
   "execution_count": 18,
   "id": "84cf3119",
   "metadata": {},
   "outputs": [],
   "source": [
    "X = data[['Contract', 'tenure', 'TechSupport',  'PaperlessBilling',\n",
    "        'SeniorCitizen', 'MonthlyCharges', 'OnlineSecurity', 'TotalCharges',\n",
    "       'PaymentMethod', 'Partner', 'PhoneService','DeviceProtection', 'Dependents', 'OnlineBackup']] #relevant columns\n",
    "y = data['Churn'] #target class"
   ]
  },
  {
   "cell_type": "code",
   "execution_count": 19,
   "id": "854a5391",
   "metadata": {},
   "outputs": [],
   "source": [
    "#splitting into training and validation dataset\n",
    "from sklearn.model_selection import train_test_split\n",
    "X_train, X_valid, y_train, y_valid = train_test_split(X, y, test_size = 0.2, random_state = 1)"
   ]
  },
  {
   "cell_type": "code",
   "execution_count": 20,
   "id": "186834ec",
   "metadata": {},
   "outputs": [
    {
     "name": "stdout",
     "output_type": "stream",
     "text": [
      "(8139, 14)\n",
      "(2035, 14)\n",
      "(8139,)\n",
      "(2035,)\n"
     ]
    }
   ],
   "source": [
    "print(X_train.shape) #checking if splitted prpoerly\n",
    "print(X_valid.shape)\n",
    "print(y_train.shape)\n",
    "print(y_valid.shape)"
   ]
  },
  {
   "cell_type": "code",
   "execution_count": 21,
   "id": "bf1f3ffc",
   "metadata": {},
   "outputs": [
    {
     "data": {
      "text/html": [
       "<div>\n",
       "<style scoped>\n",
       "    .dataframe tbody tr th:only-of-type {\n",
       "        vertical-align: middle;\n",
       "    }\n",
       "\n",
       "    .dataframe tbody tr th {\n",
       "        vertical-align: top;\n",
       "    }\n",
       "\n",
       "    .dataframe thead th {\n",
       "        text-align: right;\n",
       "    }\n",
       "</style>\n",
       "<table border=\"1\" class=\"dataframe\">\n",
       "  <thead>\n",
       "    <tr style=\"text-align: right;\">\n",
       "      <th></th>\n",
       "      <th>Contract</th>\n",
       "      <th>tenure</th>\n",
       "      <th>TechSupport</th>\n",
       "      <th>PaperlessBilling</th>\n",
       "      <th>SeniorCitizen</th>\n",
       "      <th>MonthlyCharges</th>\n",
       "      <th>OnlineSecurity</th>\n",
       "      <th>TotalCharges</th>\n",
       "      <th>PaymentMethod</th>\n",
       "      <th>Partner</th>\n",
       "      <th>PhoneService</th>\n",
       "      <th>DeviceProtection</th>\n",
       "      <th>Dependents</th>\n",
       "      <th>OnlineBackup</th>\n",
       "    </tr>\n",
       "  </thead>\n",
       "  <tbody>\n",
       "    <tr>\n",
       "      <th>627</th>\n",
       "      <td>1</td>\n",
       "      <td>66</td>\n",
       "      <td>0</td>\n",
       "      <td>0</td>\n",
       "      <td>1</td>\n",
       "      <td>104.6</td>\n",
       "      <td>0</td>\n",
       "      <td>6819.45</td>\n",
       "      <td>1</td>\n",
       "      <td>1</td>\n",
       "      <td>1</td>\n",
       "      <td>2</td>\n",
       "      <td>0</td>\n",
       "      <td>2</td>\n",
       "    </tr>\n",
       "    <tr>\n",
       "      <th>685</th>\n",
       "      <td>0</td>\n",
       "      <td>1</td>\n",
       "      <td>2</td>\n",
       "      <td>1</td>\n",
       "      <td>0</td>\n",
       "      <td>49.9</td>\n",
       "      <td>0</td>\n",
       "      <td>49.90</td>\n",
       "      <td>2</td>\n",
       "      <td>0</td>\n",
       "      <td>1</td>\n",
       "      <td>0</td>\n",
       "      <td>0</td>\n",
       "      <td>0</td>\n",
       "    </tr>\n",
       "    <tr>\n",
       "      <th>6498</th>\n",
       "      <td>0</td>\n",
       "      <td>1</td>\n",
       "      <td>0</td>\n",
       "      <td>1</td>\n",
       "      <td>0</td>\n",
       "      <td>82.3</td>\n",
       "      <td>0</td>\n",
       "      <td>82.30</td>\n",
       "      <td>2</td>\n",
       "      <td>0</td>\n",
       "      <td>1</td>\n",
       "      <td>2</td>\n",
       "      <td>0</td>\n",
       "      <td>2</td>\n",
       "    </tr>\n",
       "    <tr>\n",
       "      <th>104</th>\n",
       "      <td>2</td>\n",
       "      <td>68</td>\n",
       "      <td>2</td>\n",
       "      <td>1</td>\n",
       "      <td>0</td>\n",
       "      <td>110.0</td>\n",
       "      <td>0</td>\n",
       "      <td>7611.85</td>\n",
       "      <td>0</td>\n",
       "      <td>1</td>\n",
       "      <td>1</td>\n",
       "      <td>2</td>\n",
       "      <td>0</td>\n",
       "      <td>2</td>\n",
       "    </tr>\n",
       "    <tr>\n",
       "      <th>2716</th>\n",
       "      <td>0</td>\n",
       "      <td>19</td>\n",
       "      <td>0</td>\n",
       "      <td>0</td>\n",
       "      <td>0</td>\n",
       "      <td>44.9</td>\n",
       "      <td>0</td>\n",
       "      <td>839.65</td>\n",
       "      <td>3</td>\n",
       "      <td>1</td>\n",
       "      <td>1</td>\n",
       "      <td>0</td>\n",
       "      <td>0</td>\n",
       "      <td>0</td>\n",
       "    </tr>\n",
       "  </tbody>\n",
       "</table>\n",
       "</div>"
      ],
      "text/plain": [
       "      Contract  tenure  TechSupport  PaperlessBilling  SeniorCitizen  \\\n",
       "627          1      66            0                 0              1   \n",
       "685          0       1            2                 1              0   \n",
       "6498         0       1            0                 1              0   \n",
       "104          2      68            2                 1              0   \n",
       "2716         0      19            0                 0              0   \n",
       "\n",
       "      MonthlyCharges  OnlineSecurity  TotalCharges  PaymentMethod  Partner  \\\n",
       "627            104.6               0       6819.45              1        1   \n",
       "685             49.9               0         49.90              2        0   \n",
       "6498            82.3               0         82.30              2        0   \n",
       "104            110.0               0       7611.85              0        1   \n",
       "2716            44.9               0        839.65              3        1   \n",
       "\n",
       "      PhoneService  DeviceProtection  Dependents  OnlineBackup  \n",
       "627              1                 2           0             2  \n",
       "685              1                 0           0             0  \n",
       "6498             1                 2           0             2  \n",
       "104              1                 2           0             2  \n",
       "2716             1                 0           0             0  "
      ]
     },
     "execution_count": 21,
     "metadata": {},
     "output_type": "execute_result"
    }
   ],
   "source": [
    "X_train.head()"
   ]
  },
  {
   "cell_type": "markdown",
   "id": "9e53b93a",
   "metadata": {},
   "source": [
    "With the requirment to deal with interdependent features and a few missing values, it is best to use XGBoost for fast and accurate predictions."
   ]
  },
  {
   "cell_type": "code",
   "execution_count": 22,
   "id": "1a0fc73d",
   "metadata": {},
   "outputs": [
    {
     "data": {
      "text/plain": [
       "XGBClassifier(base_score=0.5, booster='gbtree', colsample_bylevel=1,\n",
       "              colsample_bynode=1, colsample_bytree=1, eval_metric='auc',\n",
       "              gamma=0, gpu_id=-1, importance_type='gain',\n",
       "              interaction_constraints='', learning_rate=0.300000012,\n",
       "              max_delta_step=0, max_depth=6, min_child_weight=1, missing=nan,\n",
       "              monotone_constraints='()', n_estimators=100, n_jobs=8,\n",
       "              num_parallel_tree=1, random_state=1, reg_alpha=0, reg_lambda=1,\n",
       "              scale_pos_weight=1, subsample=1, tree_method='exact',\n",
       "              use_label_encoder=False, validate_parameters=1, verbosity=None)"
      ]
     },
     "execution_count": 22,
     "metadata": {},
     "output_type": "execute_result"
    }
   ],
   "source": [
    "from xgboost import XGBClassifier\n",
    "xgb = XGBClassifier(eval_metric = 'auc',\n",
    "                    use_label_encoder=False, \n",
    "                    objective = 'binary:logistic', random_state = 1)\n",
    "xgb.fit(X_train, y_train)\n"
   ]
  },
  {
   "cell_type": "code",
   "execution_count": 23,
   "id": "a3df50a8",
   "metadata": {},
   "outputs": [
    {
     "name": "stdout",
     "output_type": "stream",
     "text": [
      "              precision    recall  f1-score   support\n",
      "\n",
      "           0       0.89      0.81      0.85      1060\n",
      "           1       0.81      0.89      0.85       975\n",
      "\n",
      "    accuracy                           0.85      2035\n",
      "   macro avg       0.85      0.85      0.85      2035\n",
      "weighted avg       0.85      0.85      0.85      2035\n",
      "\n"
     ]
    }
   ],
   "source": [
    "y_pred = xgb.predict(X_valid)\n",
    "\n",
    "from sklearn.metrics import classification_report\n",
    "print(classification_report(y_valid, y_pred))"
   ]
  },
  {
   "cell_type": "markdown",
   "id": "448c10ad",
   "metadata": {},
   "source": [
    "The model has an accuracy of 85% as shown in the classification report. The f1-score is a great performance measure as it takes into account both false positives and false negatives. If more data used is used in model training and fine tuned parameters, then the model would be able to produce even better results."
   ]
  },
  {
   "cell_type": "code",
   "execution_count": 24,
   "id": "eb53889c",
   "metadata": {},
   "outputs": [
    {
     "data": {
      "text/plain": [
       "array([[<AxesSubplot:title={'center':'Month-to-month'}>,\n",
       "        <AxesSubplot:title={'center':'One year'}>],\n",
       "       [<AxesSubplot:title={'center':'Two year'}>, <AxesSubplot:>]],\n",
       "      dtype=object)"
      ]
     },
     "execution_count": 24,
     "metadata": {},
     "output_type": "execute_result"
    },
    {
     "data": {
      "image/png": "[encoded data removed]",
      "text/plain": [
       "<Figure size 432x288 with 4 Axes>"
      ]
     },
     "metadata": {
      "needs_background": "light"
     },
     "output_type": "display_data"
    }
   ],
   "source": [
    "org_data.hist(by='Contract',\n",
    "       column='Churn')"
   ]
  },
  {
   "cell_type": "markdown",
   "id": "f1ad9256",
   "metadata": {},
   "source": [
    "As Churn is dependant most on Contract, we have plotted churn status against every Contract category.\n",
    "This relation is valid as some plans may prove beneficial and make the users stay while others may be unsatisfactory and be the reason for potential customer churn.\n",
    "From above data, it can be seen that most people opting for Month-to-month plan are likely to churn away. As this plan accounts for 55% of customer usage, it is in company's best interest if they provide offers and better services for this plan."
   ]
  },
  {
   "cell_type": "code",
   "execution_count": 25,
   "id": "3ff75d26",
   "metadata": {},
   "outputs": [
    {
     "data": {
      "text/plain": [
       "array([<AxesSubplot:title={'center':'No'}>,\n",
       "       <AxesSubplot:title={'center':'Yes'}>], dtype=object)"
      ]
     },
     "execution_count": 25,
     "metadata": {},
     "output_type": "execute_result"
    },
    {
     "data": {
      "image/png": "[encoded data removed]",
      "text/plain": [
       "<Figure size 432x288 with 2 Axes>"
      ]
     },
     "metadata": {
      "needs_background": "light"
     },
     "output_type": "display_data"
    }
   ],
   "source": [
    "org_data.hist(by='Churn',\n",
    "       column='tenure')"
   ]
  },
  {
   "cell_type": "markdown",
   "id": "8c332759",
   "metadata": {},
   "source": [
    "When plotted against Tenure which is a decisive measure to determine whether the company is able to retain it's customers in the long run, it is revealed that customers with a shorter tenure are most likely to become a churn. For this issue, sustainable deals for new customers and trials. Personal interaction can be helpful as well."
   ]
  },
  {
   "cell_type": "code",
   "execution_count": 26,
   "id": "3d584fc8",
   "metadata": {},
   "outputs": [
    {
     "data": {
      "text/plain": [
       "array([<AxesSubplot:title={'center':'No'}>,\n",
       "       <AxesSubplot:title={'center':'Yes'}>], dtype=object)"
      ]
     },
     "execution_count": 26,
     "metadata": {},
     "output_type": "execute_result"
    },
    {
     "data": {
      "image/png": "[encoded data removed]",
      "text/plain": [
       "<Figure size 432x288 with 2 Axes>"
      ]
     },
     "metadata": {
      "needs_background": "light"
     },
     "output_type": "display_data"
    }
   ],
   "source": [
    "org_data.hist(by='Churn',\n",
    "       column='OnlineSecurity')"
   ]
  },
  {
   "cell_type": "markdown",
   "id": "516657e4",
   "metadata": {},
   "source": [
    "It is seen that customers with no Online Security are likely to drop out of service, to prevent this company should introduce combo offers or complimentart Online Security with it's plans to provide a better experience to the customer and increase the chance of retention."
   ]
  },
  {
   "cell_type": "code",
   "execution_count": 28,
   "id": "6b46bc41",
   "metadata": {},
   "outputs": [
    {
     "data": {
      "text/plain": [
       "array([<AxesSubplot:title={'center':'No'}>,\n",
       "       <AxesSubplot:title={'center':'Yes'}>], dtype=object)"
      ]
     },
     "execution_count": 28,
     "metadata": {},
     "output_type": "execute_result"
    },
    {
     "data": {
      "image/png": "[encoded data removed]",
      "text/plain": [
       "<Figure size 432x288 with 2 Axes>"
      ]
     },
     "metadata": {
      "needs_background": "light"
     },
     "output_type": "display_data"
    }
   ],
   "source": [
    "org_data.hist(by='Churn',\n",
    "       column='MonthlyCharges')"
   ]
  },
  {
   "cell_type": "markdown",
   "id": "54a29614",
   "metadata": {},
   "source": [
    "As an obvious conclusion, customers getting charged high per month are likely to churn away, they should be assured of the benefits or be given proper information about how these deals if taken for a longer perios are beneficial."
   ]
  },
  {
   "cell_type": "markdown",
   "id": "c053e4c2",
   "metadata": {},
   "source": [
    "To sum up the following deals can be provided to prevent potential churns:\n",
    "\n",
    "i) Better prices and services for Month-to-month contract customers.\n",
    "ii) New customers should be given personal consultation, better deals and free trials.\n",
    "iii) Online Security is a must have in such a technologically advanced world. Combo offers at great prices or complimentary service should be provided.\n",
    "iv) Instead of high monthly charges, customers should be educated about the cost benefits for the long term plans that would reduce their monthly charge while providing same services."
   ]
  },
  {
   "cell_type": "markdown",
   "id": "46af22c1",
   "metadata": {},
   "source": [
    "Assuming the actions have been implemented, their efficiency can be checked by:\n",
    "Predicting the amount of potential churns who would be discontinuing their plan or would not renew in the coming month.\n",
    "Then, taking these measure specifically for only those potential churns.\n",
    "Comparing the actual churn with the already predicted churn. "
   ]
  }
 ],
 "metadata": {
  "kernelspec": {
   "display_name": "Python 3 (ipykernel)",
   "language": "python",
   "name": "python3"
  },
  "language_info": {
   "codemirror_mode": {
    "name": "ipython",
    "version": 3
   },
   "file_extension": ".py",
   "mimetype": "text/x-python",
   "name": "python",
   "nbconvert_exporter": "python",
   "pygments_lexer": "ipython3",
   "version": "3.9.6"
  }
 },
 "nbformat": 4,
 "nbformat_minor": 5
}
